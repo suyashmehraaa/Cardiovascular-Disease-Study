{
 "cells": [
  {
   "cell_type": "code",
   "execution_count": 1,
   "id": "49ab3442",
   "metadata": {},
   "outputs": [],
   "source": [
    "#Importing necessary libraries\n",
    "import numpy as np\n",
    "import pandas as pd\n",
    "import matplotlib.pyplot as plt"
   ]
  },
  {
   "cell_type": "code",
   "execution_count": 2,
   "id": "9bab6710",
   "metadata": {},
   "outputs": [],
   "source": [
    "#Loading the dataset\n",
    "dataset = pd.read_csv('Cardiovascular_Disease.csv')"
   ]
  },
  {
   "cell_type": "code",
   "execution_count": 3,
   "id": "57f1c992",
   "metadata": {},
   "outputs": [],
   "source": [
    "#Defining independent variables in x and dependent variable (target) in y\n",
    "x = dataset.iloc[:,:18].values\n",
    "y = dataset.iloc[:,-1].values"
   ]
  },
  {
   "cell_type": "code",
   "execution_count": 4,
   "id": "3588f4eb",
   "metadata": {},
   "outputs": [
    {
     "name": "stdout",
     "output_type": "stream",
     "text": [
      "Missing values count: General_Health                  0\n",
      "Checkup                         0\n",
      "Exercise                        0\n",
      "Skin_Cancer                     0\n",
      "Other_Cancer                    0\n",
      "Depression                      0\n",
      "Diabetes                        0\n",
      "Arthritis                       0\n",
      "Sex                             0\n",
      "Age_Category                    0\n",
      "Height_(cm)                     0\n",
      "Weight_(kg)                     0\n",
      "BMI                             0\n",
      "Smoking_History                 0\n",
      "Alcohol_Consumption             0\n",
      "Fruit_Consumption               0\n",
      "Green_Vegetables_Consumption    0\n",
      "FriedPotato_Consumption         0\n",
      "Heart_Disease                   0\n",
      "dtype: int64\n"
     ]
    }
   ],
   "source": [
    "#Checking for missing values\n",
    "missing_values = dataset.isnull().sum()\n",
    "print('Missing values count:', missing_values)"
   ]
  },
  {
   "cell_type": "code",
   "execution_count": 5,
   "id": "382d6711",
   "metadata": {},
   "outputs": [
    {
     "data": {
      "text/html": [
       "<div>\n",
       "<style scoped>\n",
       "    .dataframe tbody tr th:only-of-type {\n",
       "        vertical-align: middle;\n",
       "    }\n",
       "\n",
       "    .dataframe tbody tr th {\n",
       "        vertical-align: top;\n",
       "    }\n",
       "\n",
       "    .dataframe thead th {\n",
       "        text-align: right;\n",
       "    }\n",
       "</style>\n",
       "<table border=\"1\" class=\"dataframe\">\n",
       "  <thead>\n",
       "    <tr style=\"text-align: right;\">\n",
       "      <th></th>\n",
       "      <th>General_Health</th>\n",
       "    </tr>\n",
       "  </thead>\n",
       "  <tbody>\n",
       "    <tr>\n",
       "      <th>0</th>\n",
       "      <td>3.0</td>\n",
       "    </tr>\n",
       "    <tr>\n",
       "      <th>1</th>\n",
       "      <td>4.0</td>\n",
       "    </tr>\n",
       "    <tr>\n",
       "      <th>2</th>\n",
       "      <td>4.0</td>\n",
       "    </tr>\n",
       "    <tr>\n",
       "      <th>3</th>\n",
       "      <td>3.0</td>\n",
       "    </tr>\n",
       "    <tr>\n",
       "      <th>4</th>\n",
       "      <td>2.0</td>\n",
       "    </tr>\n",
       "  </tbody>\n",
       "</table>\n",
       "</div>"
      ],
      "text/plain": [
       "   General_Health\n",
       "0             3.0\n",
       "1             4.0\n",
       "2             4.0\n",
       "3             3.0\n",
       "4             2.0"
      ]
     },
     "execution_count": 5,
     "metadata": {},
     "output_type": "execute_result"
    }
   ],
   "source": [
    "#Applying Ordinal Encoding on the 1st column\n",
    "\n",
    "from sklearn.preprocessing import OrdinalEncoder\n",
    "\n",
    "oe = OrdinalEncoder()\n",
    "\n",
    "encoded_column = oe.fit_transform(dataset[['General_Health']])\n",
    "dataset['General_Health'] = encoded_column\n",
    "\n",
    "#viewing the Ordinal Encoded values\n",
    "dataset[['General_Health']].head(5)"
   ]
  },
  {
   "cell_type": "code",
   "execution_count": 6,
   "id": "9aadc875",
   "metadata": {},
   "outputs": [
    {
     "data": {
      "text/html": [
       "<div>\n",
       "<style scoped>\n",
       "    .dataframe tbody tr th:only-of-type {\n",
       "        vertical-align: middle;\n",
       "    }\n",
       "\n",
       "    .dataframe tbody tr th {\n",
       "        vertical-align: top;\n",
       "    }\n",
       "\n",
       "    .dataframe thead th {\n",
       "        text-align: right;\n",
       "    }\n",
       "</style>\n",
       "<table border=\"1\" class=\"dataframe\">\n",
       "  <thead>\n",
       "    <tr style=\"text-align: right;\">\n",
       "      <th></th>\n",
       "      <th>Exercise</th>\n",
       "      <th>Skin_Cancer</th>\n",
       "      <th>Other_Cancer</th>\n",
       "      <th>Depression</th>\n",
       "      <th>Diabetes</th>\n",
       "      <th>Arthritis</th>\n",
       "      <th>Sex</th>\n",
       "      <th>Smoking_History</th>\n",
       "      <th>Heart_Disease</th>\n",
       "    </tr>\n",
       "  </thead>\n",
       "  <tbody>\n",
       "    <tr>\n",
       "      <th>0</th>\n",
       "      <td>0</td>\n",
       "      <td>0</td>\n",
       "      <td>0</td>\n",
       "      <td>0</td>\n",
       "      <td>0</td>\n",
       "      <td>1</td>\n",
       "      <td>0</td>\n",
       "      <td>1</td>\n",
       "      <td>0</td>\n",
       "    </tr>\n",
       "    <tr>\n",
       "      <th>1</th>\n",
       "      <td>0</td>\n",
       "      <td>0</td>\n",
       "      <td>0</td>\n",
       "      <td>0</td>\n",
       "      <td>1</td>\n",
       "      <td>0</td>\n",
       "      <td>0</td>\n",
       "      <td>0</td>\n",
       "      <td>1</td>\n",
       "    </tr>\n",
       "    <tr>\n",
       "      <th>2</th>\n",
       "      <td>1</td>\n",
       "      <td>0</td>\n",
       "      <td>0</td>\n",
       "      <td>0</td>\n",
       "      <td>1</td>\n",
       "      <td>0</td>\n",
       "      <td>0</td>\n",
       "      <td>0</td>\n",
       "      <td>0</td>\n",
       "    </tr>\n",
       "    <tr>\n",
       "      <th>3</th>\n",
       "      <td>1</td>\n",
       "      <td>0</td>\n",
       "      <td>0</td>\n",
       "      <td>0</td>\n",
       "      <td>1</td>\n",
       "      <td>0</td>\n",
       "      <td>1</td>\n",
       "      <td>0</td>\n",
       "      <td>1</td>\n",
       "    </tr>\n",
       "    <tr>\n",
       "      <th>4</th>\n",
       "      <td>0</td>\n",
       "      <td>0</td>\n",
       "      <td>0</td>\n",
       "      <td>0</td>\n",
       "      <td>0</td>\n",
       "      <td>0</td>\n",
       "      <td>1</td>\n",
       "      <td>1</td>\n",
       "      <td>0</td>\n",
       "    </tr>\n",
       "  </tbody>\n",
       "</table>\n",
       "</div>"
      ],
      "text/plain": [
       "   Exercise  Skin_Cancer  Other_Cancer  Depression  Diabetes  Arthritis  Sex  \\\n",
       "0         0            0             0           0         0          1    0   \n",
       "1         0            0             0           0         1          0    0   \n",
       "2         1            0             0           0         1          0    0   \n",
       "3         1            0             0           0         1          0    1   \n",
       "4         0            0             0           0         0          0    1   \n",
       "\n",
       "   Smoking_History  Heart_Disease  \n",
       "0                1              0  \n",
       "1                0              1  \n",
       "2                0              0  \n",
       "3                0              1  \n",
       "4                1              0  "
      ]
     },
     "execution_count": 6,
     "metadata": {},
     "output_type": "execute_result"
    }
   ],
   "source": [
    "#Applying Label Encoding on all the required columns\n",
    "from sklearn.preprocessing import LabelEncoder\n",
    "\n",
    "#Initializing and fitting LabelEncoder for required columns\n",
    "\n",
    "columns_to_LabelEncode = ['Exercise','Skin_Cancer','Other_Cancer','Depression','Diabetes','Arthritis','Sex','Smoking_History']\n",
    "\n",
    "encoded_columns = {}\n",
    "\n",
    "for column in columns_to_LabelEncode:\n",
    "    encoded_columns[column] = LabelEncoder().fit_transform(dataset[column])\n",
    "    \n",
    "#Updating the dataset with encoded values\n",
    "for column in encoded_columns:\n",
    "    dataset[column] = encoded_columns[column]\n",
    "    \n",
    "#Seperately handling the target (dependent) variable\n",
    "target_column = 'Heart_Disease'\n",
    "dataset[target_column] = LabelEncoder().fit_transform(dataset[target_column])\n",
    "\n",
    "#Viewing the LabelEncoded data\n",
    "dataset[['Exercise','Skin_Cancer','Other_Cancer','Depression','Diabetes','Arthritis','Sex','Smoking_History','Heart_Disease']].head(5)\n"
   ]
  },
  {
   "cell_type": "code",
   "execution_count": 7,
   "id": "a33ed003",
   "metadata": {},
   "outputs": [
    {
     "name": "stderr",
     "output_type": "stream",
     "text": [
      "C:\\ProgramData\\anaconda3\\Lib\\site-packages\\sklearn\\preprocessing\\_encoders.py:868: FutureWarning: `sparse` was renamed to `sparse_output` in version 1.2 and will be removed in 1.4. `sparse_output` is ignored unless you leave `sparse` to its default value.\n",
      "  warnings.warn(\n"
     ]
    },
    {
     "name": "stdout",
     "output_type": "stream",
     "text": [
      "        Checkup_Never  Checkup_Within the past 2 years  \\\n",
      "0                 0.0                              1.0   \n",
      "1                 0.0                              0.0   \n",
      "2                 0.0                              0.0   \n",
      "3                 0.0                              0.0   \n",
      "4                 0.0                              0.0   \n",
      "...               ...                              ...   \n",
      "308849            0.0                              0.0   \n",
      "308850            0.0                              0.0   \n",
      "308851            0.0                              0.0   \n",
      "308852            0.0                              0.0   \n",
      "308853            0.0                              0.0   \n",
      "\n",
      "        Checkup_Within the past 5 years  Checkup_Within the past year  \\\n",
      "0                                   0.0                           0.0   \n",
      "1                                   0.0                           1.0   \n",
      "2                                   0.0                           1.0   \n",
      "3                                   0.0                           1.0   \n",
      "4                                   0.0                           1.0   \n",
      "...                                 ...                           ...   \n",
      "308849                              0.0                           1.0   \n",
      "308850                              1.0                           0.0   \n",
      "308851                              0.0                           0.0   \n",
      "308852                              0.0                           1.0   \n",
      "308853                              0.0                           1.0   \n",
      "\n",
      "        Age_Category_25-29  Age_Category_30-34  Age_Category_35-39  \\\n",
      "0                      0.0                 0.0                 0.0   \n",
      "1                      0.0                 0.0                 0.0   \n",
      "2                      0.0                 0.0                 0.0   \n",
      "3                      0.0                 0.0                 0.0   \n",
      "4                      0.0                 0.0                 0.0   \n",
      "...                    ...                 ...                 ...   \n",
      "308849                 1.0                 0.0                 0.0   \n",
      "308850                 0.0                 0.0                 0.0   \n",
      "308851                 0.0                 1.0                 0.0   \n",
      "308852                 0.0                 0.0                 0.0   \n",
      "308853                 0.0                 0.0                 0.0   \n",
      "\n",
      "        Age_Category_40-44  Age_Category_45-49  Age_Category_50-54  \\\n",
      "0                      0.0                 0.0                 0.0   \n",
      "1                      0.0                 0.0                 0.0   \n",
      "2                      0.0                 0.0                 0.0   \n",
      "3                      0.0                 0.0                 0.0   \n",
      "4                      0.0                 0.0                 0.0   \n",
      "...                    ...                 ...                 ...   \n",
      "308849                 0.0                 0.0                 0.0   \n",
      "308850                 0.0                 0.0                 0.0   \n",
      "308851                 0.0                 0.0                 0.0   \n",
      "308852                 0.0                 0.0                 0.0   \n",
      "308853                 0.0                 1.0                 0.0   \n",
      "\n",
      "        Age_Category_55-59  Age_Category_60-64  Age_Category_65-69  \\\n",
      "0                      0.0                 0.0                 0.0   \n",
      "1                      0.0                 0.0                 0.0   \n",
      "2                      0.0                 1.0                 0.0   \n",
      "3                      0.0                 0.0                 0.0   \n",
      "4                      0.0                 0.0                 0.0   \n",
      "...                    ...                 ...                 ...   \n",
      "308849                 0.0                 0.0                 0.0   \n",
      "308850                 0.0                 0.0                 1.0   \n",
      "308851                 0.0                 0.0                 0.0   \n",
      "308852                 0.0                 0.0                 1.0   \n",
      "308853                 0.0                 0.0                 0.0   \n",
      "\n",
      "        Age_Category_70-74  Age_Category_75-79  Age_Category_80+  \n",
      "0                      1.0                 0.0               0.0  \n",
      "1                      1.0                 0.0               0.0  \n",
      "2                      0.0                 0.0               0.0  \n",
      "3                      0.0                 1.0               0.0  \n",
      "4                      0.0                 0.0               1.0  \n",
      "...                    ...                 ...               ...  \n",
      "308849                 0.0                 0.0               0.0  \n",
      "308850                 0.0                 0.0               0.0  \n",
      "308851                 0.0                 0.0               0.0  \n",
      "308852                 0.0                 0.0               0.0  \n",
      "308853                 0.0                 0.0               0.0  \n",
      "\n",
      "[308854 rows x 16 columns]\n"
     ]
    }
   ],
   "source": [
    "#Applying One Hot Encoding on all the required columns\n",
    "from sklearn.preprocessing import OneHotEncoder\n",
    "\n",
    "columns_to_OneHotEncode = ['Checkup', 'Age_Category']\n",
    "\n",
    "#Initializign the OneHotEncoder\n",
    "ohencoder = OneHotEncoder(drop='first', sparse=False)\n",
    "\n",
    "#Fitting and transforming the selected columns\n",
    "encoded_columns = ohencoder.fit_transform(dataset[columns_to_OneHotEncode])\n",
    "\n",
    "#Creating a new dataset with the encoded column\n",
    "encoded_dataset = pd.DataFrame(encoded_columns, columns=ohencoder.get_feature_names_out(columns_to_OneHotEncode))\n",
    "\n",
    "#Displaying the encoded data\n",
    "print(encoded_dataset)\n",
    "\n",
    "#Concatenating the original dataset with the encoded dataset\n",
    "dataset = pd.concat([dataset, encoded_dataset], axis=1)"
   ]
  },
  {
   "cell_type": "code",
   "execution_count": 8,
   "id": "99cc737c",
   "metadata": {},
   "outputs": [],
   "source": [
    "#Redefining independent and dependent variables by including the encoded data in independent variable\n",
    "df1 = dataset.iloc[:,0]     # Considering 'General Health' column\n",
    "df2 = dataset.iloc[:,2:9]   # Excluding 'Checkup' and 'Age Category' columns as they have categorical data \n",
    "df3 = dataset.iloc[:,12:18] # Excluding 'Height_(cm)', 'Weight_(kg)' columns as we have BMI column\n",
    "df4 = dataset.iloc[:,19:-1] # Including all One Hot Encoded columns after the independent variable\n",
    "\n",
    "x = pd.concat([df1, df2, df3, df4], axis=1)\n",
    "y = dataset.iloc[:,18]\n",
    "data = pd.concat([x, y], axis=1) # 'data' now consists of the cleaned and final data."
   ]
  },
  {
   "cell_type": "code",
   "execution_count": 9,
   "id": "dbc58ef5",
   "metadata": {},
   "outputs": [
    {
     "name": "stdout",
     "output_type": "stream",
     "text": [
      "Index(['General_Health', 'Exercise', 'Diabetes', 'Arthritis', 'Sex',\n",
      "       'Smoking_History', 'Checkup_Within the past year'],\n",
      "      dtype='object')\n"
     ]
    }
   ],
   "source": [
    "#Performing Feature Selection with Mutual Information\n",
    "from sklearn.feature_selection import SelectKBest, mutual_info_classif\n",
    "\n",
    "#Selecting the top k features based on mutual information\n",
    "selector = SelectKBest(score_func=mutual_info_classif, k=7)\n",
    "x = selector.fit_transform(x, y) #Replacing the dependent variables with the top k features\n",
    "\n",
    "#Getting the indices of selected features and their corresponding scores\n",
    "selected_indices = selector.get_support(indices=True)\n",
    "selected_scores = selector.scores_\n",
    "print(data.columns[selected_indices])"
   ]
  },
  {
   "cell_type": "code",
   "execution_count": 10,
   "id": "07690d22",
   "metadata": {},
   "outputs": [],
   "source": [
    "#Splitting data into Training Data and Testing Data\n",
    "from sklearn.model_selection import train_test_split\n",
    "x_train, x_test, y_train, y_test = train_test_split(x,y, test_size=0.2, random_state=1)"
   ]
  },
  {
   "cell_type": "code",
   "execution_count": 11,
   "id": "2048caa1",
   "metadata": {},
   "outputs": [],
   "source": [
    "#Standardizing the data\n",
    "from sklearn.preprocessing import StandardScaler\n",
    "sc = StandardScaler()\n",
    "x_train=sc.fit_transform(x_train)\n",
    "x_test=sc.transform(x_test)"
   ]
  },
  {
   "cell_type": "code",
   "execution_count": 13,
   "id": "6b1f758a",
   "metadata": {},
   "outputs": [
    {
     "data": {
      "text/html": [
       "<style>#sk-container-id-1 {color: black;background-color: white;}#sk-container-id-1 pre{padding: 0;}#sk-container-id-1 div.sk-toggleable {background-color: white;}#sk-container-id-1 label.sk-toggleable__label {cursor: pointer;display: block;width: 100%;margin-bottom: 0;padding: 0.3em;box-sizing: border-box;text-align: center;}#sk-container-id-1 label.sk-toggleable__label-arrow:before {content: \"▸\";float: left;margin-right: 0.25em;color: #696969;}#sk-container-id-1 label.sk-toggleable__label-arrow:hover:before {color: black;}#sk-container-id-1 div.sk-estimator:hover label.sk-toggleable__label-arrow:before {color: black;}#sk-container-id-1 div.sk-toggleable__content {max-height: 0;max-width: 0;overflow: hidden;text-align: left;background-color: #f0f8ff;}#sk-container-id-1 div.sk-toggleable__content pre {margin: 0.2em;color: black;border-radius: 0.25em;background-color: #f0f8ff;}#sk-container-id-1 input.sk-toggleable__control:checked~div.sk-toggleable__content {max-height: 200px;max-width: 100%;overflow: auto;}#sk-container-id-1 input.sk-toggleable__control:checked~label.sk-toggleable__label-arrow:before {content: \"▾\";}#sk-container-id-1 div.sk-estimator input.sk-toggleable__control:checked~label.sk-toggleable__label {background-color: #d4ebff;}#sk-container-id-1 div.sk-label input.sk-toggleable__control:checked~label.sk-toggleable__label {background-color: #d4ebff;}#sk-container-id-1 input.sk-hidden--visually {border: 0;clip: rect(1px 1px 1px 1px);clip: rect(1px, 1px, 1px, 1px);height: 1px;margin: -1px;overflow: hidden;padding: 0;position: absolute;width: 1px;}#sk-container-id-1 div.sk-estimator {font-family: monospace;background-color: #f0f8ff;border: 1px dotted black;border-radius: 0.25em;box-sizing: border-box;margin-bottom: 0.5em;}#sk-container-id-1 div.sk-estimator:hover {background-color: #d4ebff;}#sk-container-id-1 div.sk-parallel-item::after {content: \"\";width: 100%;border-bottom: 1px solid gray;flex-grow: 1;}#sk-container-id-1 div.sk-label:hover label.sk-toggleable__label {background-color: #d4ebff;}#sk-container-id-1 div.sk-serial::before {content: \"\";position: absolute;border-left: 1px solid gray;box-sizing: border-box;top: 0;bottom: 0;left: 50%;z-index: 0;}#sk-container-id-1 div.sk-serial {display: flex;flex-direction: column;align-items: center;background-color: white;padding-right: 0.2em;padding-left: 0.2em;position: relative;}#sk-container-id-1 div.sk-item {position: relative;z-index: 1;}#sk-container-id-1 div.sk-parallel {display: flex;align-items: stretch;justify-content: center;background-color: white;position: relative;}#sk-container-id-1 div.sk-item::before, #sk-container-id-1 div.sk-parallel-item::before {content: \"\";position: absolute;border-left: 1px solid gray;box-sizing: border-box;top: 0;bottom: 0;left: 50%;z-index: -1;}#sk-container-id-1 div.sk-parallel-item {display: flex;flex-direction: column;z-index: 1;position: relative;background-color: white;}#sk-container-id-1 div.sk-parallel-item:first-child::after {align-self: flex-end;width: 50%;}#sk-container-id-1 div.sk-parallel-item:last-child::after {align-self: flex-start;width: 50%;}#sk-container-id-1 div.sk-parallel-item:only-child::after {width: 0;}#sk-container-id-1 div.sk-dashed-wrapped {border: 1px dashed gray;margin: 0 0.4em 0.5em 0.4em;box-sizing: border-box;padding-bottom: 0.4em;background-color: white;}#sk-container-id-1 div.sk-label label {font-family: monospace;font-weight: bold;display: inline-block;line-height: 1.2em;}#sk-container-id-1 div.sk-label-container {text-align: center;}#sk-container-id-1 div.sk-container {/* jupyter's `normalize.less` sets `[hidden] { display: none; }` but bootstrap.min.css set `[hidden] { display: none !important; }` so we also need the `!important` here to be able to override the default hidden behavior on the sphinx rendered scikit-learn.org. See: https://github.com/scikit-learn/scikit-learn/issues/21755 */display: inline-block !important;position: relative;}#sk-container-id-1 div.sk-text-repr-fallback {display: none;}</style><div id=\"sk-container-id-1\" class=\"sk-top-container\"><div class=\"sk-text-repr-fallback\"><pre>GaussianNB()</pre><b>In a Jupyter environment, please rerun this cell to show the HTML representation or trust the notebook. <br />On GitHub, the HTML representation is unable to render, please try loading this page with nbviewer.org.</b></div><div class=\"sk-container\" hidden><div class=\"sk-item\"><div class=\"sk-estimator sk-toggleable\"><input class=\"sk-toggleable__control sk-hidden--visually\" id=\"sk-estimator-id-1\" type=\"checkbox\" checked><label for=\"sk-estimator-id-1\" class=\"sk-toggleable__label sk-toggleable__label-arrow\">GaussianNB</label><div class=\"sk-toggleable__content\"><pre>GaussianNB()</pre></div></div></div></div></div>"
      ],
      "text/plain": [
       "GaussianNB()"
      ]
     },
     "execution_count": 13,
     "metadata": {},
     "output_type": "execute_result"
    }
   ],
   "source": [
    "from sklearn.naive_bayes import GaussianNB\n",
    "#Creating a Gaussian Naïve Bayes classifier\n",
    "gnb = GaussianNB()\n",
    "\n",
    "#Training the model using the training data\n",
    "gnb.fit(x_train, y_train)"
   ]
  },
  {
   "cell_type": "code",
   "execution_count": 14,
   "id": "e610fc78",
   "metadata": {},
   "outputs": [],
   "source": [
    "#Predicting the results of the test set\n",
    "y_pred = gnb.predict(x_test)"
   ]
  },
  {
   "cell_type": "code",
   "execution_count": 15,
   "id": "e4371c46",
   "metadata": {},
   "outputs": [
    {
     "name": "stdout",
     "output_type": "stream",
     "text": [
      "Accuracy percent: 87.99760405368214%\n"
     ]
    }
   ],
   "source": [
    "#Calculating Accuracy Percent\n",
    "from sklearn.metrics import accuracy_score\n",
    "a = accuracy_score(y_test, y_pred)\n",
    "print('Accuracy percent: '+str(a*100)+'%')"
   ]
  },
  {
   "cell_type": "code",
   "execution_count": 16,
   "id": "0d3a9ec1",
   "metadata": {},
   "outputs": [
    {
     "name": "stdout",
     "output_type": "stream",
     "text": [
      "0.2356122890523583\n"
     ]
    }
   ],
   "source": [
    "#Calculating Precision Score\n",
    "from sklearn.metrics import precision_score\n",
    "p = precision_score(y_test, y_pred)\n",
    "print(p)"
   ]
  },
  {
   "cell_type": "code",
   "execution_count": 17,
   "id": "de206934",
   "metadata": {},
   "outputs": [
    {
     "data": {
      "text/plain": [
       "0.21911468812877263"
      ]
     },
     "execution_count": 17,
     "metadata": {},
     "output_type": "execute_result"
    }
   ],
   "source": [
    "#Calculating Recall Score\n",
    "from sklearn.metrics import recall_score\n",
    "recall_score(y_test, y_pred)"
   ]
  },
  {
   "cell_type": "code",
   "execution_count": 18,
   "id": "4b6cbc47",
   "metadata": {},
   "outputs": [
    {
     "name": "stdout",
     "output_type": "stream",
     "text": [
      "0.22706422018348624\n"
     ]
    }
   ],
   "source": [
    "#Calculating F1 Score\n",
    "from sklearn.metrics import f1_score\n",
    "f1 = f1_score(y_test, y_pred)\n",
    "print(f1)"
   ]
  },
  {
   "cell_type": "code",
   "execution_count": 30,
   "id": "6c9fb326",
   "metadata": {},
   "outputs": [
    {
     "name": "stdout",
     "output_type": "stream",
     "text": [
      "Prior Class Label & Probabilities: {0: 0.9190514928182028, 1: 0.0809485071817972}\n"
     ]
    }
   ],
   "source": [
    "#Accessing the estimated prior probabilities of each class\n",
    "prior_probs = gnb.class_prior_\n",
    "class_labels = gnb.classes_\n",
    "print(\"Prior Class Label & Probabilities:\", dict(zip(class_labels, prior_probs)))"
   ]
  },
  {
   "cell_type": "code",
   "execution_count": 31,
   "id": "e366e53c",
   "metadata": {},
   "outputs": [
    {
     "name": "stdout",
     "output_type": "stream",
     "text": [
      "Class Probabilities: [[0.98777418 0.01222582]\n",
      " [0.90839878 0.09160122]\n",
      " [0.98641301 0.01358699]\n",
      " [0.84731306 0.15268694]\n",
      " [0.66861663 0.33138337]]\n"
     ]
    }
   ],
   "source": [
    "#Calculating class probabilities for the test data\n",
    "class_probs = gnb.predict_proba(x_test)\n",
    "\n",
    "#Display the class probabilities for the first few instances\n",
    "print(\"Class Probabilities:\", class_probs[:5]) # Print probabilities for the first 5 instances"
   ]
  }
 ],
 "metadata": {
  "kernelspec": {
   "display_name": "Python 3 (ipykernel)",
   "language": "python",
   "name": "python3"
  },
  "language_info": {
   "codemirror_mode": {
    "name": "ipython",
    "version": 3
   },
   "file_extension": ".py",
   "mimetype": "text/x-python",
   "name": "python",
   "nbconvert_exporter": "python",
   "pygments_lexer": "ipython3",
   "version": "3.11.3"
  }
 },
 "nbformat": 4,
 "nbformat_minor": 5
}
